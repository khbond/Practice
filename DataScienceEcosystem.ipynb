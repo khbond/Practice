{
 "cells": [
  {
   "cell_type": "markdown",
   "id": "0d303fd0-13d6-4bc5-844c-2aa2ef772136",
   "metadata": {},
   "source": [
    "# Data Science Tools and Ecosystem"
   ]
  },
  {
   "cell_type": "markdown",
   "id": "964d4fe5-434d-4333-885a-01a3a7f27030",
   "metadata": {},
   "source": [
    "## Author\n",
    "Kyle Bond"
   ]
  },
  {
   "cell_type": "markdown",
   "id": "0d3dc386-4649-4bf2-82f6-c67ae8428a6f",
   "metadata": {
    "tags": []
   },
   "source": [
    "In this notebook, Data Science Tools and Ecosystem are summarized."
   ]
  },
  {
   "cell_type": "markdown",
   "id": "747839b7-7e39-4e22-8673-bcda7b083363",
   "metadata": {},
   "source": [
    "**Objectives:**\n",
    "- List popular langauges for Data Science\n",
    "- List commonly used libraies for Data Science\n",
    "- List commonly used tools for Data Science \n",
    "- Examples of evaluating arithmetic expressions in Python"
   ]
  },
  {
   "cell_type": "markdown",
   "id": "1208da60-091b-42df-9ad5-0f01d6b9d66a",
   "metadata": {
    "tags": []
   },
   "source": [
    "Some of the popular languages that Data Scientists use are:\n",
    "1. R\n",
    "2. Python\n",
    "3. SQL"
   ]
  },
  {
   "cell_type": "markdown",
   "id": "d3bc87b1-5593-41e6-b9c1-fbd87d426dba",
   "metadata": {},
   "source": [
    "Some of the commonly used libraries used by Data Scientists include:\n",
    "1. ggplot2\n",
    "2. dplyr\n",
    "3. stringr"
   ]
  },
  {
   "cell_type": "markdown",
   "id": "b8c14afe-832e-492a-b05e-10ed27b78b81",
   "metadata": {},
   "source": [
    "| Data Science Tools|\n",
    "|---|\n",
    "| Apache Spark |\n",
    "| Jupytr Notebooks|\n",
    "| Anaconda |\n"
   ]
  },
  {
   "cell_type": "markdown",
   "id": "f29dfe88-a222-4e43-96c6-89c5347f4098",
   "metadata": {},
   "source": [
    "### Below are a few examples of evaluating arithmetic expressions in Python."
   ]
  },
  {
   "cell_type": "code",
   "execution_count": 2,
   "id": "ea4a14b8-a8df-47ee-ab86-b296598defdc",
   "metadata": {
    "tags": []
   },
   "outputs": [
    {
     "data": {
      "text/plain": [
       "17"
      ]
     },
     "execution_count": 2,
     "metadata": {},
     "output_type": "execute_result"
    }
   ],
   "source": [
    "# This a simple arithmetic expression to mutiply then add integers\n",
    "(3*4)+5"
   ]
  },
  {
   "cell_type": "code",
   "execution_count": 5,
   "id": "911362b2-d9b1-4b7b-9acf-2f1c174fc7f1",
   "metadata": {
    "tags": []
   },
   "outputs": [
    {
     "data": {
      "text/plain": [
       "3.3333333333333335"
      ]
     },
     "execution_count": 5,
     "metadata": {},
     "output_type": "execute_result"
    }
   ],
   "source": [
    "# This will convert 200 minutes to hours by diving by 60\n",
    "(200/60)"
   ]
  }
 ],
 "metadata": {
  "kernelspec": {
   "display_name": "Python",
   "language": "python",
   "name": "conda-env-python-py"
  },
  "language_info": {
   "codemirror_mode": {
    "name": "ipython",
    "version": 3
   },
   "file_extension": ".py",
   "mimetype": "text/x-python",
   "name": "python",
   "nbconvert_exporter": "python",
   "pygments_lexer": "ipython3",
   "version": "3.7.12"
  }
 },
 "nbformat": 4,
 "nbformat_minor": 5
}
